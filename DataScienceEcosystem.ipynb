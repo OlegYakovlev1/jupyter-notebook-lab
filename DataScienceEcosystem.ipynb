{
  "metadata": {
    "language_info": {
      "codemirror_mode": {
        "name": "python",
        "version": 3
      },
      "file_extension": ".py",
      "mimetype": "text/x-python",
      "name": "python",
      "nbconvert_exporter": "python",
      "pygments_lexer": "ipython3",
      "version": "3.8"
    },
    "kernelspec": {
      "name": "python",
      "display_name": "Python (Pyodide)",
      "language": "python"
    }
  },
  "nbformat_minor": 4,
  "nbformat": 4,
  "cells": [
    {
      "cell_type": "markdown",
      "source": "Create markdown cell with title of the notebook\n# Data Science Tools and Ecosystem",
      "metadata": {}
    },
    {
      "cell_type": "markdown",
      "source": "Create a markdown cell for an introduction\n## In this notebook, Data Science Tools and Ecosystem are summarized.",
      "metadata": {}
    },
    {
      "cell_type": "markdown",
      "source": "Insert a markdown cell to list Objectives",
      "metadata": {}
    },
    {
      "cell_type": "markdown",
      "source": "### Objectives:\n* List popular languages for Data Science\n* List commonly used libraries by Data Scientists\n* Examples of evaluating arithmetic expressions in Python",
      "metadata": {}
    },
    {
      "cell_type": "markdown",
      "source": "Create a markdown cell to list data science languages\n### Some of the popular languages that Data Scientists use are:\n1. **Python**: Widely adopted for its simplicity and a rich ecosystem of libraries like Pandas, NumPy, and Scikit-learn.\n2. **R**: Known for its statistical capabilities and extensive packages for data visualization and analysis.\n3. **SQL (Structured Query Language)**: Essential for database querying and manipulation, often used in combination with other languages.\n4. **Julia**: Emerging as a high-performance language for numerical and scientific computing.\n5. **Scala**: Particularly used with Apache Spark for large-scale data process",
      "metadata": {}
    },
    {
      "cell_type": "markdown",
      "source": "Create a markdown cell to list data science libraries\n### Some of the commonly used libraries by Data Scientists include:\n1. **Pandas**: A powerful data manipulation and analysis library for Python.\n2. **NumPy**: Essential for numerical operations in Python, providing support for large, multi-dimensional arrays and matrices.\n3. **Scikit-learn**: A machine learning library in Python, offering simple and efficient tools for data analysis and modeling.\n4. **Matplotlib**: A widely-used plotting library in Python for creating static, animated, and interactive visualizations.\n5. **Seaborn**: Built on top of Matplotlib, Seaborn provides a high-level interface for statistical data visualization.",
      "metadata": {}
    },
    {
      "cell_type": "markdown",
      "source": "Create a markdown cell with a table of Data Science tools\n| Data Science Tools |\n| ------------------ |\n| Jupyter Notebooks  |\n| RStudio            |\n| VS Code with Python Extension |",
      "metadata": {}
    },
    {
      "cell_type": "markdown",
      "source": "Create a markdown cell introducing arithmetic expression examples\n### Below are a few examples of evaluating arithmetic expressions in Python",
      "metadata": {}
    },
    {
      "cell_type": "markdown",
      "source": "Create a code cell to multiply and add numbers",
      "metadata": {}
    },
    {
      "cell_type": "code",
      "source": "# This is a simple arithmetic expression to multiply then add integers.\n(3 * 4) + 5",
      "metadata": {
        "trusted": true
      },
      "execution_count": 3,
      "outputs": [
        {
          "execution_count": 3,
          "output_type": "execute_result",
          "data": {
            "text/plain": "17"
          },
          "metadata": {}
        }
      ]
    },
    {
      "cell_type": "markdown",
      "source": "Create a code cell to convert minutes to hours",
      "metadata": {}
    },
    {
      "cell_type": "code",
      "source": "# This will convert 200 minutes to hours by diving by 60\n200 / 60",
      "metadata": {
        "trusted": true
      },
      "execution_count": 4,
      "outputs": [
        {
          "execution_count": 4,
          "output_type": "execute_result",
          "data": {
            "text/plain": "3.3333333333333335"
          },
          "metadata": {}
        }
      ]
    },
    {
      "cell_type": "markdown",
      "source": "Create a markdown cell to indicate the Author's name",
      "metadata": {}
    },
    {
      "cell_type": "markdown",
      "source": "## Author\nOleh Yakovlev",
      "metadata": {}
    },
    {
      "cell_type": "code",
      "source": "",
      "metadata": {},
      "execution_count": null,
      "outputs": []
    }
  ]
}